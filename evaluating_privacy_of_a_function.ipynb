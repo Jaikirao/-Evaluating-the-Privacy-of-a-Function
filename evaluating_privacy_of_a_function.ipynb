{
  "nbformat": 4,
  "nbformat_minor": 0,
  "metadata": {
    "colab": {
      "name": "Welcome To Colaboratory",
      "version": "0.3.2",
      "provenance": [],
      "collapsed_sections": [],
      "toc_visible": true,
      "include_colab_link": true
    },
    "kernelspec": {
      "display_name": "Python 3",
      "name": "python3"
    }
  },
  "cells": [
    {
      "cell_type": "markdown",
      "metadata": {
        "id": "view-in-github",
        "colab_type": "text"
      },
      "source": [
        "<a href=\"https://colab.research.google.com/github/Jaikirao/-Evaluating-the-Privacy-of-a-Function/blob/master/evaluating_privacy_of_a_function.ipynb\" target=\"_parent\"><img src=\"https://colab.research.google.com/assets/colab-badge.svg\" alt=\"Open In Colab\"/></a>"
      ]
    },
    {
      "cell_type": "code",
      "metadata": {
        "id": "KBsPK24hxxIz",
        "colab_type": "code",
        "colab": {
          "base_uri": "https://localhost:8080/",
          "height": 51
        },
        "outputId": "3634b2b6-c68d-4649-e300-8d0cc517b2cc"
      },
      "source": [
        "import torch\n",
        "\n",
        "# the number of entries in our database\n",
        "num_entries = 20\n",
        "\n",
        "db = torch.rand(num_entries) > 0.5\n",
        "db"
      ],
      "execution_count": 18,
      "outputs": [
        {
          "output_type": "execute_result",
          "data": {
            "text/plain": [
              "tensor([1, 0, 1, 1, 1, 1, 0, 1, 1, 0, 1, 1, 0, 1, 1, 1, 1, 1, 1, 0],\n",
              "       dtype=torch.uint8)"
            ]
          },
          "metadata": {
            "tags": []
          },
          "execution_count": 18
        }
      ]
    },
    {
      "cell_type": "code",
      "metadata": {
        "id": "_tUy6KVlxxEn",
        "colab_type": "code",
        "colab": {}
      },
      "source": [
        "def get_parallel_db(db , remove_index):\n",
        "  return torch.cat((db[0:remove_index],\n",
        "                    db[remove_index+1:]))"
      ],
      "execution_count": 0,
      "outputs": []
    },
    {
      "cell_type": "code",
      "metadata": {
        "id": "u2Lutyl9xxAw",
        "colab_type": "code",
        "colab": {
          "base_uri": "https://localhost:8080/",
          "height": 51
        },
        "outputId": "9c640719-3369-4188-ee08-3a47d7cb351b"
      },
      "source": [
        "get_parallel_db(db,2)"
      ],
      "execution_count": 20,
      "outputs": [
        {
          "output_type": "execute_result",
          "data": {
            "text/plain": [
              "tensor([1, 0, 1, 1, 1, 0, 1, 1, 0, 1, 1, 0, 1, 1, 1, 1, 1, 1, 0],\n",
              "       dtype=torch.uint8)"
            ]
          },
          "metadata": {
            "tags": []
          },
          "execution_count": 20
        }
      ]
    },
    {
      "cell_type": "code",
      "metadata": {
        "id": "vj-1vkd-xw7S",
        "colab_type": "code",
        "colab": {}
      },
      "source": [
        "def get_parallel_dbs(db):\n",
        "  parallel_dbs=list()\n",
        "  for i in range(len(db)):\n",
        "    pdb=get_parallel_db(db,i)\n",
        "    parallel_dbs.append(pdb)\n",
        "    \n",
        "  return parallel_dbs\n"
      ],
      "execution_count": 0,
      "outputs": []
    },
    {
      "cell_type": "code",
      "metadata": {
        "id": "23fQsLlOxwLZ",
        "colab_type": "code",
        "colab": {
          "base_uri": "https://localhost:8080/",
          "height": 697
        },
        "outputId": "7af63e3f-dce7-4e66-d935-602d947e846a"
      },
      "source": [
        "get_parallel_dbs(db)"
      ],
      "execution_count": 22,
      "outputs": [
        {
          "output_type": "execute_result",
          "data": {
            "text/plain": [
              "[tensor([0, 1, 1, 1, 1, 0, 1, 1, 0, 1, 1, 0, 1, 1, 1, 1, 1, 1, 0],\n",
              "        dtype=torch.uint8),\n",
              " tensor([1, 1, 1, 1, 1, 0, 1, 1, 0, 1, 1, 0, 1, 1, 1, 1, 1, 1, 0],\n",
              "        dtype=torch.uint8),\n",
              " tensor([1, 0, 1, 1, 1, 0, 1, 1, 0, 1, 1, 0, 1, 1, 1, 1, 1, 1, 0],\n",
              "        dtype=torch.uint8),\n",
              " tensor([1, 0, 1, 1, 1, 0, 1, 1, 0, 1, 1, 0, 1, 1, 1, 1, 1, 1, 0],\n",
              "        dtype=torch.uint8),\n",
              " tensor([1, 0, 1, 1, 1, 0, 1, 1, 0, 1, 1, 0, 1, 1, 1, 1, 1, 1, 0],\n",
              "        dtype=torch.uint8),\n",
              " tensor([1, 0, 1, 1, 1, 0, 1, 1, 0, 1, 1, 0, 1, 1, 1, 1, 1, 1, 0],\n",
              "        dtype=torch.uint8),\n",
              " tensor([1, 0, 1, 1, 1, 1, 1, 1, 0, 1, 1, 0, 1, 1, 1, 1, 1, 1, 0],\n",
              "        dtype=torch.uint8),\n",
              " tensor([1, 0, 1, 1, 1, 1, 0, 1, 0, 1, 1, 0, 1, 1, 1, 1, 1, 1, 0],\n",
              "        dtype=torch.uint8),\n",
              " tensor([1, 0, 1, 1, 1, 1, 0, 1, 0, 1, 1, 0, 1, 1, 1, 1, 1, 1, 0],\n",
              "        dtype=torch.uint8),\n",
              " tensor([1, 0, 1, 1, 1, 1, 0, 1, 1, 1, 1, 0, 1, 1, 1, 1, 1, 1, 0],\n",
              "        dtype=torch.uint8),\n",
              " tensor([1, 0, 1, 1, 1, 1, 0, 1, 1, 0, 1, 0, 1, 1, 1, 1, 1, 1, 0],\n",
              "        dtype=torch.uint8),\n",
              " tensor([1, 0, 1, 1, 1, 1, 0, 1, 1, 0, 1, 0, 1, 1, 1, 1, 1, 1, 0],\n",
              "        dtype=torch.uint8),\n",
              " tensor([1, 0, 1, 1, 1, 1, 0, 1, 1, 0, 1, 1, 1, 1, 1, 1, 1, 1, 0],\n",
              "        dtype=torch.uint8),\n",
              " tensor([1, 0, 1, 1, 1, 1, 0, 1, 1, 0, 1, 1, 0, 1, 1, 1, 1, 1, 0],\n",
              "        dtype=torch.uint8),\n",
              " tensor([1, 0, 1, 1, 1, 1, 0, 1, 1, 0, 1, 1, 0, 1, 1, 1, 1, 1, 0],\n",
              "        dtype=torch.uint8),\n",
              " tensor([1, 0, 1, 1, 1, 1, 0, 1, 1, 0, 1, 1, 0, 1, 1, 1, 1, 1, 0],\n",
              "        dtype=torch.uint8),\n",
              " tensor([1, 0, 1, 1, 1, 1, 0, 1, 1, 0, 1, 1, 0, 1, 1, 1, 1, 1, 0],\n",
              "        dtype=torch.uint8),\n",
              " tensor([1, 0, 1, 1, 1, 1, 0, 1, 1, 0, 1, 1, 0, 1, 1, 1, 1, 1, 0],\n",
              "        dtype=torch.uint8),\n",
              " tensor([1, 0, 1, 1, 1, 1, 0, 1, 1, 0, 1, 1, 0, 1, 1, 1, 1, 1, 0],\n",
              "        dtype=torch.uint8),\n",
              " tensor([1, 0, 1, 1, 1, 1, 0, 1, 1, 0, 1, 1, 0, 1, 1, 1, 1, 1, 1],\n",
              "        dtype=torch.uint8)]"
            ]
          },
          "metadata": {
            "tags": []
          },
          "execution_count": 22
        }
      ]
    },
    {
      "cell_type": "code",
      "metadata": {
        "id": "_wQOgmY4xwGk",
        "colab_type": "code",
        "colab": {}
      },
      "source": [
        "def create_db_and_parallel(num_enteries):\n",
        "  db=torch.rand(num_enteries)>0.5\n",
        "  pdbs= get_parallel_dbs(db)\n",
        "  \n",
        "  return db,pdbs"
      ],
      "execution_count": 0,
      "outputs": []
    },
    {
      "cell_type": "code",
      "metadata": {
        "id": "c7wK1vSyxwCZ",
        "colab_type": "code",
        "colab": {}
      },
      "source": [
        "db,pdbs =create_db_and_parallel(10)"
      ],
      "execution_count": 0,
      "outputs": []
    },
    {
      "cell_type": "code",
      "metadata": {
        "id": "gxvkfjLXxv-l",
        "colab_type": "code",
        "colab": {
          "base_uri": "https://localhost:8080/",
          "height": 34
        },
        "outputId": "a39257d1-64d7-45f3-a916-8e6f10ababd8"
      },
      "source": [
        "db"
      ],
      "execution_count": 34,
      "outputs": [
        {
          "output_type": "execute_result",
          "data": {
            "text/plain": [
              "tensor([1, 1, 1, 1, 0, 1, 1, 0, 1, 0], dtype=torch.uint8)"
            ]
          },
          "metadata": {
            "tags": []
          },
          "execution_count": 34
        }
      ]
    },
    {
      "cell_type": "code",
      "metadata": {
        "id": "b7eTtG12xv7E",
        "colab_type": "code",
        "colab": {
          "base_uri": "https://localhost:8080/",
          "height": 187
        },
        "outputId": "3c4ef796-4092-4409-eba6-361879af3f7f"
      },
      "source": [
        "pdbs"
      ],
      "execution_count": 35,
      "outputs": [
        {
          "output_type": "execute_result",
          "data": {
            "text/plain": [
              "[tensor([1, 1, 1, 0, 1, 1, 0, 1, 0], dtype=torch.uint8),\n",
              " tensor([1, 1, 1, 0, 1, 1, 0, 1, 0], dtype=torch.uint8),\n",
              " tensor([1, 1, 1, 0, 1, 1, 0, 1, 0], dtype=torch.uint8),\n",
              " tensor([1, 1, 1, 0, 1, 1, 0, 1, 0], dtype=torch.uint8),\n",
              " tensor([1, 1, 1, 1, 1, 1, 0, 1, 0], dtype=torch.uint8),\n",
              " tensor([1, 1, 1, 1, 0, 1, 0, 1, 0], dtype=torch.uint8),\n",
              " tensor([1, 1, 1, 1, 0, 1, 0, 1, 0], dtype=torch.uint8),\n",
              " tensor([1, 1, 1, 1, 0, 1, 1, 1, 0], dtype=torch.uint8),\n",
              " tensor([1, 1, 1, 1, 0, 1, 1, 0, 0], dtype=torch.uint8),\n",
              " tensor([1, 1, 1, 1, 0, 1, 1, 0, 1], dtype=torch.uint8)]"
            ]
          },
          "metadata": {
            "tags": []
          },
          "execution_count": 35
        }
      ]
    },
    {
      "cell_type": "code",
      "metadata": {
        "id": "Ynyt5YXnxv3k",
        "colab_type": "code",
        "colab": {}
      },
      "source": [
        "db, pdbs = create_db_and_parallel(5000)"
      ],
      "execution_count": 0,
      "outputs": []
    },
    {
      "cell_type": "code",
      "metadata": {
        "id": "R8kpNo1izHF9",
        "colab_type": "code",
        "colab": {}
      },
      "source": [
        "def query(db):\n",
        "    return db.sum()"
      ],
      "execution_count": 0,
      "outputs": []
    },
    {
      "cell_type": "code",
      "metadata": {
        "id": "hM5LsQ4xzd9M",
        "colab_type": "code",
        "colab": {}
      },
      "source": [
        "full_db_result = query(db)"
      ],
      "execution_count": 0,
      "outputs": []
    },
    {
      "cell_type": "code",
      "metadata": {
        "id": "ADJ4-A7vzG8I",
        "colab_type": "code",
        "colab": {}
      },
      "source": [
        "sensitivity = 0\n",
        "for pdb in pdbs:\n",
        "    pdb_result = query(pdb)\n",
        "    \n",
        "    db_distance = torch.abs(pdb_result - full_db_result)\n",
        "    \n",
        "    if(db_distance > sensitivity):\n",
        "        sensitivity = db_distance"
      ],
      "execution_count": 0,
      "outputs": []
    },
    {
      "cell_type": "code",
      "metadata": {
        "id": "tSpYeREmzGx3",
        "colab_type": "code",
        "colab": {
          "base_uri": "https://localhost:8080/",
          "height": 34
        },
        "outputId": "f83a7acd-1574-44d2-bb19-fec46d547ea7"
      },
      "source": [
        "sensitivity"
      ],
      "execution_count": 41,
      "outputs": [
        {
          "output_type": "execute_result",
          "data": {
            "text/plain": [
              "tensor(1)"
            ]
          },
          "metadata": {
            "tags": []
          },
          "execution_count": 41
        }
      ]
    },
    {
      "cell_type": "code",
      "metadata": {
        "id": "kFC0BVoWzGnc",
        "colab_type": "code",
        "colab": {}
      },
      "source": [
        "db, pdbs = create_db_and_parallel(5000)"
      ],
      "execution_count": 0,
      "outputs": []
    },
    {
      "cell_type": "code",
      "metadata": {
        "id": "pZVkJnnpyzBw",
        "colab_type": "code",
        "colab": {}
      },
      "source": [
        "full_db_result = query(db)"
      ],
      "execution_count": 0,
      "outputs": []
    },
    {
      "cell_type": "code",
      "metadata": {
        "id": "E6PQKieRzw95",
        "colab_type": "code",
        "colab": {}
      },
      "source": [
        "def sensitivity(query,n_enteries=1000):\n",
        "  db, pdbs = create_db_and_parallel(n_enteries)\n",
        "  full_db_result = query(db)\n",
        "  max_distance = 0\n",
        "  for pdb in pdbs:\n",
        "    \n",
        "    pdb_result = query(pdb)\n",
        "    \n",
        "    db_distance = torch.abs(pdb_result - full_db_result)\n",
        "    \n",
        "    if(db_distance > max_distance):\n",
        "        max_distance = db_distance\n",
        "  return max_distance"
      ],
      "execution_count": 0,
      "outputs": []
    },
    {
      "cell_type": "code",
      "metadata": {
        "id": "UT7LewPxzwyz",
        "colab_type": "code",
        "colab": {}
      },
      "source": [
        "def query(db):\n",
        "    return db.float().mean()"
      ],
      "execution_count": 0,
      "outputs": []
    },
    {
      "cell_type": "code",
      "metadata": {
        "id": "RQiRYVDnzwmR",
        "colab_type": "code",
        "colab": {
          "base_uri": "https://localhost:8080/",
          "height": 34
        },
        "outputId": "ff4a4c64-3998-41e6-d306-229f1998fb4e"
      },
      "source": [
        "sensitivity(query)"
      ],
      "execution_count": 46,
      "outputs": [
        {
          "output_type": "execute_result",
          "data": {
            "text/plain": [
              "tensor(0.0005)"
            ]
          },
          "metadata": {
            "tags": []
          },
          "execution_count": 46
        }
      ]
    },
    {
      "cell_type": "code",
      "metadata": {
        "id": "kP9OrgG7zwY7",
        "colab_type": "code",
        "colab": {
          "base_uri": "https://localhost:8080/",
          "height": 34
        },
        "outputId": "d9379dd8-0f6b-4d88-fe05-10a49ed45e1e"
      },
      "source": [
        "db, pdbs = create_db_and_parallel(10)\n",
        "db"
      ],
      "execution_count": 47,
      "outputs": [
        {
          "output_type": "execute_result",
          "data": {
            "text/plain": [
              "tensor([1, 1, 0, 0, 0, 0, 0, 0, 1, 0], dtype=torch.uint8)"
            ]
          },
          "metadata": {
            "tags": []
          },
          "execution_count": 47
        }
      ]
    },
    {
      "cell_type": "code",
      "metadata": {
        "id": "0ttbkxITzwKg",
        "colab_type": "code",
        "colab": {
          "base_uri": "https://localhost:8080/",
          "height": 187
        },
        "outputId": "652e1325-ee13-4e50-cbb4-1cf9d27a7181"
      },
      "source": [
        "pdbs"
      ],
      "execution_count": 48,
      "outputs": [
        {
          "output_type": "execute_result",
          "data": {
            "text/plain": [
              "[tensor([1, 0, 0, 0, 0, 0, 0, 1, 0], dtype=torch.uint8),\n",
              " tensor([1, 0, 0, 0, 0, 0, 0, 1, 0], dtype=torch.uint8),\n",
              " tensor([1, 1, 0, 0, 0, 0, 0, 1, 0], dtype=torch.uint8),\n",
              " tensor([1, 1, 0, 0, 0, 0, 0, 1, 0], dtype=torch.uint8),\n",
              " tensor([1, 1, 0, 0, 0, 0, 0, 1, 0], dtype=torch.uint8),\n",
              " tensor([1, 1, 0, 0, 0, 0, 0, 1, 0], dtype=torch.uint8),\n",
              " tensor([1, 1, 0, 0, 0, 0, 0, 1, 0], dtype=torch.uint8),\n",
              " tensor([1, 1, 0, 0, 0, 0, 0, 1, 0], dtype=torch.uint8),\n",
              " tensor([1, 1, 0, 0, 0, 0, 0, 0, 0], dtype=torch.uint8),\n",
              " tensor([1, 1, 0, 0, 0, 0, 0, 0, 1], dtype=torch.uint8)]"
            ]
          },
          "metadata": {
            "tags": []
          },
          "execution_count": 48
        }
      ]
    },
    {
      "cell_type": "code",
      "metadata": {
        "id": "XEKiVQLnyy4W",
        "colab_type": "code",
        "colab": {}
      },
      "source": [
        ""
      ],
      "execution_count": 0,
      "outputs": []
    },
    {
      "cell_type": "code",
      "metadata": {
        "id": "yMHHgw_IyyvO",
        "colab_type": "code",
        "colab": {}
      },
      "source": [
        ""
      ],
      "execution_count": 0,
      "outputs": []
    }
  ]
}